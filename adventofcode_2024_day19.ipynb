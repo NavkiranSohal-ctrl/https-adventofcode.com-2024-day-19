{
 "cells": [
  {
   "cell_type": "code",
   "execution_count": 1,
   "id": "6185f3be-92ce-45a5-b063-42778772fe21",
   "metadata": {},
   "outputs": [
    {
     "name": "stdout",
     "output_type": "stream",
     "text": [
      "How many designs are possible? : 242\n"
     ]
    }
   ],
   "source": [
    "#Advent of Code - Day 19 of 2024 - Part 1 Puzzle\n",
    "\n",
    "#To read data from input file\n",
    "def read_file(file_path):\n",
    "    with open(file_path, 'r') as file: \n",
    "        lines = file.read().splitlines() #removing newline characters\n",
    "        patterns = lines[0].split(', ') #to get towel patterns\n",
    "        designs = [line for line in lines[1:] if line.strip()] #to get designs i.e. remaining lines after blank line\n",
    "    return patterns, designs\n",
    "\n",
    "patterns, designs = read_file(r\"C:\\Users\\navis\\Desktop\\input.txt\")\n",
    "    \n",
    "#To check if a design can be created using extracted patterns   \n",
    "def create_designs(design, patterns):\n",
    "    valid_positions = {0}  #store positions in design that can be reached by combining towel patterns\n",
    "    for i in range(1, len(design) + 1): \n",
    "        for pattern in patterns:\n",
    "            if i >= len(pattern) and design[i - len(pattern):i] == pattern: #checks if current position can match the given towel pattern\n",
    "                if i - len(pattern) in valid_positions: #checks if the current position before the start of current pattern was reachable.\n",
    "                 valid_positions.add(i)  # Mark this position as reachable\n",
    "\n",
    "    return len(design) in valid_positions #returns true if it reaches last position of design\n",
    "\n",
    "def count_designs(patterns, designs):\n",
    "    valid_designs = 0\n",
    "    for design in designs:\n",
    "        if create_designs(design, patterns):\n",
    "            valid_designs += 1 #if design can be created, increase count\n",
    "    return valid_designs\n",
    "\n",
    "# To Count valid designs\n",
    "valid_designs_count = count_designs(patterns, designs) #counts the no. of valid designs\n",
    "print(\"How many designs are possible? :\",valid_designs_count)\n"
   ]
  },
  {
   "cell_type": "code",
   "execution_count": 2,
   "id": "a3ae58e0-bb07-4cd8-82fd-b66d11068490",
   "metadata": {},
   "outputs": [
    {
     "name": "stdout",
     "output_type": "stream",
     "text": [
      "What do you get if you add up the number of different ways you could make each design? : 595975512785325\n"
     ]
    }
   ],
   "source": [
    "#Advent of Code - Day 19 of 2024 - Part 2 Puzzle\n",
    "\n",
    "#To read data from input file\n",
    "def read_file(file_path):\n",
    "    with open(file_path, 'r') as file:\n",
    "        lines = file.read().splitlines() #to read all lines and remove newline characters\n",
    "        patterns = lines[0].split(', ') #to get towel patterns\n",
    "        designs = [line for line in lines[1:] if line.strip()] #to get designs i.e. remaining lines after blank line\n",
    "    return patterns, designs\n",
    "\n",
    "#To Count no. of ways a design can be formed\n",
    "def count_ways(design, patterns, memo={}): \n",
    "    if design in memo:\n",
    "        return memo[design]  # To check if design is already added, return result if found\n",
    "    if design == \"\":  \n",
    "        return 1  #to check if design is empty\n",
    "\n",
    "    total_ways = 0\n",
    "\n",
    "    for pattern in patterns:\n",
    "        if design.startswith(pattern):  # to Check if design starts with this pattern\n",
    "            remaining_design = design[len(pattern):]  # To remove matched part of the design\n",
    "            total_ways += count_ways(remaining_design, patterns, memo) #To calculate no. of ways for remaining part of design\n",
    "    memo[design] = total_ways  \n",
    "    return total_ways\n",
    "\n",
    "#To calculate the total no. of ways to form all designs\n",
    "def design_ways(patterns, designs):\n",
    "    return sum(count_ways(design, patterns) for design in designs) \n",
    "\n",
    "patterns, designs = read_file(r\"C:\\Users\\navis\\Desktop\\input.txt\")\n",
    "\n",
    "#To cound and print total no. of ways to form the designs\n",
    "total_ways = design_ways(patterns, designs)\n",
    "print(\"What do you get if you add up the number of different ways you could make each design? :\", total_ways)"
   ]
  }
 ],
 "metadata": {
  "kernelspec": {
   "display_name": "Python 3 (ipykernel)",
   "language": "python",
   "name": "python3"
  },
  "language_info": {
   "codemirror_mode": {
    "name": "ipython",
    "version": 3
   },
   "file_extension": ".py",
   "mimetype": "text/x-python",
   "name": "python",
   "nbconvert_exporter": "python",
   "pygments_lexer": "ipython3",
   "version": "3.13.2"
  }
 },
 "nbformat": 4,
 "nbformat_minor": 5
}
